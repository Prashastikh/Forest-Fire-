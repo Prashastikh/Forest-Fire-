{
  "nbformat": 4,
  "nbformat_minor": 0,
  "metadata": {
    "colab": {
      "name": "DataPreprocessing.ipynb",
      "provenance": []
    },
    "kernelspec": {
      "name": "python3",
      "display_name": "Python 3"
    }
  },
  "cells": [
    {
      "cell_type": "markdown",
      "metadata": {
        "id": "cCcVxqHMKhIQ",
        "colab_type": "text"
      },
      "source": [
        "#Importing Necessary Library"
      ]
    },
    {
      "cell_type": "code",
      "metadata": {
        "id": "i6TwqxCpNnfT",
        "colab_type": "code",
        "colab": {}
      },
      "source": [
        "from pandas import read_csv\n",
        "import numpy as np\n",
        "import pandas as pd\n",
        "import scipy \n",
        "from sklearn.preprocessing import MinMaxScaler;\n",
        "from sklearn.preprocessing import StandardScaler;\n",
        "from sklearn.preprocessing import Normalizer;\n",
        "from sklearn.preprocessing import Binarizer;"
      ],
      "execution_count": 0,
      "outputs": []
    },
    {
      "cell_type": "code",
      "metadata": {
        "id": "hPy_dYq2OEe7",
        "colab_type": "code",
        "colab": {
          "base_uri": "https://localhost:8080/",
          "height": 33
        },
        "outputId": "70408c4e-00d3-4d4b-cc34-7e43674d63ae"
      },
      "source": [
        "dataset = pd.read_csv('forestfires.csv')\n",
        "print(dataset.shape)"
      ],
      "execution_count": 2,
      "outputs": [
        {
          "output_type": "stream",
          "text": [
            "(517, 13)\n"
          ],
          "name": "stdout"
        }
      ]
    },
    {
      "cell_type": "markdown",
      "metadata": {
        "id": "0q35vNbFK2K9",
        "colab_type": "text"
      },
      "source": [
        "#Data Visualization"
      ]
    },
    {
      "cell_type": "code",
      "metadata": {
        "id": "rIdAgGScOwLX",
        "colab_type": "code",
        "colab": {
          "base_uri": "https://localhost:8080/",
          "height": 115
        },
        "outputId": "a712bf09-4ee1-4e0e-80fc-37557cfe2a60"
      },
      "source": [
        "print(dataset.head())"
      ],
      "execution_count": 3,
      "outputs": [
        {
          "output_type": "stream",
          "text": [
            "   X  Y month  day  FFMC   DMC     DC  ISI  temp  RH  wind  rain  area\n",
            "0  7  5   mar  fri  86.2  26.2   94.3  5.1   8.2  51   6.7   0.0   0.0\n",
            "1  7  4   oct  tue  90.6  35.4  669.1  6.7  18.0  33   0.9   0.0   0.0\n",
            "2  7  4   oct  sat  90.6  43.7  686.9  6.7  14.6  33   1.3   0.0   0.0\n",
            "3  8  6   mar  fri  91.7  33.3   77.5  9.0   8.3  97   4.0   0.2   0.0\n",
            "4  8  6   mar  sun  89.3  51.3  102.2  9.6  11.4  99   1.8   0.0   0.0\n"
          ],
          "name": "stdout"
        }
      ]
    },
    {
      "cell_type": "code",
      "metadata": {
        "id": "rLxemIk-O4DO",
        "colab_type": "code",
        "colab": {
          "base_uri": "https://localhost:8080/",
          "height": 196
        },
        "outputId": "45ff3b2d-7d0f-4a0d-b719-b96a10004dbf"
      },
      "source": [
        "print(dataset.describe())"
      ],
      "execution_count": 4,
      "outputs": [
        {
          "output_type": "stream",
          "text": [
            "                X           Y        FFMC  ...        wind        rain         area\n",
            "count  517.000000  517.000000  517.000000  ...  517.000000  517.000000   517.000000\n",
            "mean     4.669246    4.299807   90.644681  ...    4.017602    0.021663    12.847292\n",
            "std      2.313778    1.229900    5.520111  ...    1.791653    0.295959    63.655818\n",
            "min      1.000000    2.000000   18.700000  ...    0.400000    0.000000     0.000000\n",
            "25%      3.000000    4.000000   90.200000  ...    2.700000    0.000000     0.000000\n",
            "50%      4.000000    4.000000   91.600000  ...    4.000000    0.000000     0.520000\n",
            "75%      7.000000    5.000000   92.900000  ...    4.900000    0.000000     6.570000\n",
            "max      9.000000    9.000000   96.200000  ...    9.400000    6.400000  1090.840000\n",
            "\n",
            "[8 rows x 11 columns]\n"
          ],
          "name": "stdout"
        }
      ]
    },
    {
      "cell_type": "code",
      "metadata": {
        "id": "TN-VukooPY3f",
        "colab_type": "code",
        "colab": {
          "base_uri": "https://localhost:8080/",
          "height": 66
        },
        "outputId": "f852ac68-02e7-4df9-8b44-332a29bd9a9b"
      },
      "source": [
        "dataset.columns"
      ],
      "execution_count": 5,
      "outputs": [
        {
          "output_type": "execute_result",
          "data": {
            "text/plain": [
              "Index(['X', 'Y', 'month', 'day', 'FFMC', 'DMC', 'DC', 'ISI', 'temp', 'RH',\n",
              "       'wind', 'rain', 'area'],\n",
              "      dtype='object')"
            ]
          },
          "metadata": {
            "tags": []
          },
          "execution_count": 5
        }
      ]
    },
    {
      "cell_type": "code",
      "metadata": {
        "id": "oCdppZcoSCXC",
        "colab_type": "code",
        "colab": {
          "base_uri": "https://localhost:8080/",
          "height": 342
        },
        "outputId": "c0d15c42-d84d-411a-e935-e90ea2bedf96"
      },
      "source": [
        "dataset.info()\n",
        "\n"
      ],
      "execution_count": 6,
      "outputs": [
        {
          "output_type": "stream",
          "text": [
            "<class 'pandas.core.frame.DataFrame'>\n",
            "RangeIndex: 517 entries, 0 to 516\n",
            "Data columns (total 13 columns):\n",
            " #   Column  Non-Null Count  Dtype  \n",
            "---  ------  --------------  -----  \n",
            " 0   X       517 non-null    int64  \n",
            " 1   Y       517 non-null    int64  \n",
            " 2   month   517 non-null    object \n",
            " 3   day     517 non-null    object \n",
            " 4   FFMC    517 non-null    float64\n",
            " 5   DMC     517 non-null    float64\n",
            " 6   DC      517 non-null    float64\n",
            " 7   ISI     517 non-null    float64\n",
            " 8   temp    517 non-null    float64\n",
            " 9   RH      517 non-null    int64  \n",
            " 10  wind    517 non-null    float64\n",
            " 11  rain    517 non-null    float64\n",
            " 12  area    517 non-null    float64\n",
            "dtypes: float64(8), int64(3), object(2)\n",
            "memory usage: 52.6+ KB\n"
          ],
          "name": "stdout"
        }
      ]
    },
    {
      "cell_type": "code",
      "metadata": {
        "id": "cLVCbJBMS4kj",
        "colab_type": "code",
        "colab": {
          "base_uri": "https://localhost:8080/",
          "height": 245
        },
        "outputId": "1647148b-1d70-4134-971f-c1004c3b43c6"
      },
      "source": [
        "dataset.dtypes"
      ],
      "execution_count": 7,
      "outputs": [
        {
          "output_type": "execute_result",
          "data": {
            "text/plain": [
              "X          int64\n",
              "Y          int64\n",
              "month     object\n",
              "day       object\n",
              "FFMC     float64\n",
              "DMC      float64\n",
              "DC       float64\n",
              "ISI      float64\n",
              "temp     float64\n",
              "RH         int64\n",
              "wind     float64\n",
              "rain     float64\n",
              "area     float64\n",
              "dtype: object"
            ]
          },
          "metadata": {
            "tags": []
          },
          "execution_count": 7
        }
      ]
    },
    {
      "cell_type": "markdown",
      "metadata": {
        "id": "RYIZ840MLJ23",
        "colab_type": "text"
      },
      "source": [
        "#Checking Null Values"
      ]
    },
    {
      "cell_type": "code",
      "metadata": {
        "id": "R7I298rl86Rm",
        "colab_type": "code",
        "colab": {
          "base_uri": "https://localhost:8080/",
          "height": 212
        },
        "outputId": "c4f04beb-5a53-4c6f-c53c-6c53d545c384"
      },
      "source": [
        "print((dataset[['X','Y','FFMC','DMC','DC','ISI','temp','RH','wind','rain','area']]==0).sum())"
      ],
      "execution_count": 8,
      "outputs": [
        {
          "output_type": "stream",
          "text": [
            "X         0\n",
            "Y         0\n",
            "FFMC      0\n",
            "DMC       0\n",
            "DC        0\n",
            "ISI       1\n",
            "temp      0\n",
            "RH        0\n",
            "wind      0\n",
            "rain    509\n",
            "area    247\n",
            "dtype: int64\n"
          ],
          "name": "stdout"
        }
      ]
    },
    {
      "cell_type": "code",
      "metadata": {
        "id": "27YhrTwB9Tfj",
        "colab_type": "code",
        "colab": {}
      },
      "source": [
        "array = dataset.values"
      ],
      "execution_count": 0,
      "outputs": []
    },
    {
      "cell_type": "code",
      "metadata": {
        "id": "0tjPXXSJ_ezz",
        "colab_type": "code",
        "colab": {}
      },
      "source": [
        "X = array[:,0:11]\n",
        "Y = array[:,12]"
      ],
      "execution_count": 0,
      "outputs": []
    },
    {
      "cell_type": "code",
      "metadata": {
        "id": "rbuKtu2GBbR5",
        "colab_type": "code",
        "colab": {
          "base_uri": "https://localhost:8080/",
          "height": 33
        },
        "outputId": "6a08a88b-830d-4813-cde8-3e853e948886"
      },
      "source": [
        "X.shape"
      ],
      "execution_count": 11,
      "outputs": [
        {
          "output_type": "execute_result",
          "data": {
            "text/plain": [
              "(517, 11)"
            ]
          },
          "metadata": {
            "tags": []
          },
          "execution_count": 11
        }
      ]
    },
    {
      "cell_type": "code",
      "metadata": {
        "id": "flU3jGIqBeC8",
        "colab_type": "code",
        "colab": {
          "base_uri": "https://localhost:8080/",
          "height": 33
        },
        "outputId": "e34d37d4-4c3c-4067-cfbf-44e015cb48df"
      },
      "source": [
        "Y.shape"
      ],
      "execution_count": 12,
      "outputs": [
        {
          "output_type": "execute_result",
          "data": {
            "text/plain": [
              "(517,)"
            ]
          },
          "metadata": {
            "tags": []
          },
          "execution_count": 12
        }
      ]
    },
    {
      "cell_type": "markdown",
      "metadata": {
        "id": "s8Hed92pLQYr",
        "colab_type": "text"
      },
      "source": [
        "#Rescaling Data"
      ]
    },
    {
      "cell_type": "code",
      "metadata": {
        "id": "R2Yi0iZlBn0X",
        "colab_type": "code",
        "colab": {}
      },
      "source": [
        "scaler = MinMaxScaler(feature_range=(0,0.5))\n"
      ],
      "execution_count": 0,
      "outputs": []
    },
    {
      "cell_type": "code",
      "metadata": {
        "id": "-VscNY6sB2c-",
        "colab_type": "code",
        "colab": {
          "base_uri": "https://localhost:8080/",
          "height": 131
        },
        "outputId": "db700898-1c40-43ae-9ff7-bcb379757e64"
      },
      "source": [
        "rescaledX = scaler.fit_transform(X[:,4:12])\n",
        "print(rescaledX)"
      ],
      "execution_count": 14,
      "outputs": [
        {
          "output_type": "stream",
          "text": [
            "[[0.43548387 0.04324604 0.0506626  ... 0.09646302 0.21176471 0.35      ]\n",
            " [0.46387097 0.05909717 0.38770963 ... 0.25401929 0.10588235 0.02777778]\n",
            " [0.46387097 0.07339766 0.39814706 ... 0.19935691 0.10588235 0.05      ]\n",
            " ...\n",
            " [0.40580645 0.095796   0.38565732 ... 0.30546624 0.32352941 0.35      ]\n",
            " [0.4883871  0.24965541 0.35581095 ... 0.37620579 0.15882353 0.2       ]\n",
            " [0.39225806 0.0032736  0.05793362 ... 0.15434084 0.09411765 0.22777778]]\n"
          ],
          "name": "stdout"
        }
      ]
    },
    {
      "cell_type": "code",
      "metadata": {
        "id": "nPjTx9C_HllB",
        "colab_type": "code",
        "colab": {}
      },
      "source": [
        "np.set_printoptions(precision=3)"
      ],
      "execution_count": 0,
      "outputs": []
    },
    {
      "cell_type": "code",
      "metadata": {
        "id": "sbI2I-byJOXQ",
        "colab_type": "code",
        "colab": {
          "base_uri": "https://localhost:8080/",
          "height": 131
        },
        "outputId": "a775486d-4e42-4fda-8cf5-ec27afb19cd8"
      },
      "source": [
        "print(rescaledX[:,:])"
      ],
      "execution_count": 16,
      "outputs": [
        {
          "output_type": "stream",
          "text": [
            "[[0.435 0.043 0.051 ... 0.096 0.212 0.35 ]\n",
            " [0.464 0.059 0.388 ... 0.254 0.106 0.028]\n",
            " [0.464 0.073 0.398 ... 0.199 0.106 0.05 ]\n",
            " ...\n",
            " [0.406 0.096 0.386 ... 0.305 0.324 0.35 ]\n",
            " [0.488 0.25  0.356 ... 0.376 0.159 0.2  ]\n",
            " [0.392 0.003 0.058 ... 0.154 0.094 0.228]]\n"
          ],
          "name": "stdout"
        }
      ]
    },
    {
      "cell_type": "markdown",
      "metadata": {
        "id": "dw7qJSwgLufS",
        "colab_type": "text"
      },
      "source": [
        "#Standardizing Data"
      ]
    },
    {
      "cell_type": "code",
      "metadata": {
        "id": "jmZ6kXn4JWk8",
        "colab_type": "code",
        "colab": {}
      },
      "source": [
        "scaler2 = StandardScaler().fit(X[:,4:12])"
      ],
      "execution_count": 0,
      "outputs": []
    },
    {
      "cell_type": "code",
      "metadata": {
        "id": "WlrYg1mGMCLR",
        "colab_type": "code",
        "colab": {}
      },
      "source": [
        "rescaledX2 = scaler2.transform(X[:,4:12])"
      ],
      "execution_count": 0,
      "outputs": []
    },
    {
      "cell_type": "code",
      "metadata": {
        "id": "5y0Z4OwwMvDn",
        "colab_type": "code",
        "colab": {
          "base_uri": "https://localhost:8080/",
          "height": 131
        },
        "outputId": "d4702631-dc2e-485d-8449-affcd754bf09"
      },
      "source": [
        "np.set_printoptions(precision=3)\n",
        "print(rescaledX[:,:])"
      ],
      "execution_count": 19,
      "outputs": [
        {
          "output_type": "stream",
          "text": [
            "[[0.435 0.043 0.051 ... 0.096 0.212 0.35 ]\n",
            " [0.464 0.059 0.388 ... 0.254 0.106 0.028]\n",
            " [0.464 0.073 0.398 ... 0.199 0.106 0.05 ]\n",
            " ...\n",
            " [0.406 0.096 0.386 ... 0.305 0.324 0.35 ]\n",
            " [0.488 0.25  0.356 ... 0.376 0.159 0.2  ]\n",
            " [0.392 0.003 0.058 ... 0.154 0.094 0.228]]\n"
          ],
          "name": "stdout"
        }
      ]
    },
    {
      "cell_type": "markdown",
      "metadata": {
        "id": "ddGgB86QNatW",
        "colab_type": "text"
      },
      "source": [
        "#Normalizing Data"
      ]
    },
    {
      "cell_type": "code",
      "metadata": {
        "id": "4WbJcR5sM9RN",
        "colab_type": "code",
        "colab": {}
      },
      "source": [
        "scaler3 = Normalizer().fit(X[:,4:12])"
      ],
      "execution_count": 0,
      "outputs": []
    },
    {
      "cell_type": "code",
      "metadata": {
        "id": "Kaut1gBlRJZY",
        "colab_type": "code",
        "colab": {}
      },
      "source": [
        "normalizedX = scaler3.transform(X[:,4:12])"
      ],
      "execution_count": 0,
      "outputs": []
    },
    {
      "cell_type": "code",
      "metadata": {
        "id": "smRoSl6WRTKe",
        "colab_type": "code",
        "colab": {
          "base_uri": "https://localhost:8080/",
          "height": 131
        },
        "outputId": "fb1ae39e-a4ac-4b78-9c13-e3d120c28f4d"
      },
      "source": [
        "np.set_printoptions(precision=3)\n",
        "print(normalizedX[:,:])"
      ],
      "execution_count": 22,
      "outputs": [
        {
          "output_type": "stream",
          "text": [
            "[[0.613 0.186 0.671 ... 0.058 0.363 0.048]\n",
            " [0.134 0.052 0.988 ... 0.027 0.049 0.001]\n",
            " [0.13  0.063 0.988 ... 0.021 0.047 0.002]\n",
            " ...\n",
            " [0.121 0.084 0.983 ... 0.031 0.103 0.01 ]\n",
            " [0.147 0.228 0.959 ... 0.04  0.066 0.006]\n",
            " [0.579 0.022 0.777 ... 0.086 0.226 0.033]]\n"
          ],
          "name": "stdout"
        }
      ]
    },
    {
      "cell_type": "markdown",
      "metadata": {
        "id": "NuTU4WHGRn7T",
        "colab_type": "text"
      },
      "source": [
        "#Binarize Data"
      ]
    },
    {
      "cell_type": "code",
      "metadata": {
        "id": "2Eog8OhWRZuj",
        "colab_type": "code",
        "colab": {}
      },
      "source": [
        "binarizer = Binarizer(threshold=1).fit(X[:,4:12])"
      ],
      "execution_count": 0,
      "outputs": []
    },
    {
      "cell_type": "code",
      "metadata": {
        "id": "-4VO77sBR3_5",
        "colab_type": "code",
        "colab": {}
      },
      "source": [
        "binarizedX = binarizer.transform(X[:,4:12])"
      ],
      "execution_count": 0,
      "outputs": []
    },
    {
      "cell_type": "code",
      "metadata": {
        "id": "FZYSZ837SCvz",
        "colab_type": "code",
        "colab": {
          "base_uri": "https://localhost:8080/",
          "height": 131
        },
        "outputId": "3d7630c3-12d2-4a29-e297-56801ebaa472"
      },
      "source": [
        "np.set_printoptions(precision=3)\n",
        "print(binarizedX[:,:])"
      ],
      "execution_count": 25,
      "outputs": [
        {
          "output_type": "stream",
          "text": [
            "[[1. 1. 1. ... 1. 1. 1.]\n",
            " [1. 1. 1. ... 1. 1. 0.]\n",
            " [1. 1. 1. ... 1. 1. 1.]\n",
            " ...\n",
            " [1. 1. 1. ... 1. 1. 1.]\n",
            " [1. 1. 1. ... 1. 1. 1.]\n",
            " [1. 1. 1. ... 1. 1. 1.]]\n"
          ],
          "name": "stdout"
        }
      ]
    },
    {
      "cell_type": "code",
      "metadata": {
        "id": "CoDCcFzySHJR",
        "colab_type": "code",
        "colab": {}
      },
      "source": [
        ""
      ],
      "execution_count": 0,
      "outputs": []
    }
  ]
}