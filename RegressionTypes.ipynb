{
  "nbformat": 4,
  "nbformat_minor": 0,
  "metadata": {
    "colab": {
      "name": "RegressionTypes.ipynb",
      "provenance": []
    },
    "kernelspec": {
      "name": "python3",
      "display_name": "Python 3"
    }
  },
  "cells": [
    {
      "cell_type": "markdown",
      "metadata": {
        "id": "hzRGf5PUzeOv",
        "colab_type": "text"
      },
      "source": [
        "#Importing Libraries"
      ]
    },
    {
      "cell_type": "code",
      "metadata": {
        "id": "-CSI__CRCeyl",
        "colab_type": "code",
        "colab": {}
      },
      "source": [
        "from pandas import read_csv\n",
        "import pandas as pd\n",
        "from sklearn.model_selection import KFold\n",
        "from sklearn.model_selection import cross_val_score\n",
        "from sklearn.linear_model import LinearRegression"
      ],
      "execution_count": 0,
      "outputs": []
    },
    {
      "cell_type": "code",
      "metadata": {
        "id": "u5oM_emXDElh",
        "colab_type": "code",
        "colab": {}
      },
      "source": [
        "url = \"https://archive.ics.uci.edu/ml/machine-learning-databases/forest-fires/forestfires.csv\"\n",
        "names = ['X','Y','month','day','FFMC','DMC','DC','ISI','temp','RH','wind','rain','area']\n",
        "dataframe = pd.read_csv(url,names = None)\n",
        "array = dataframe.values"
      ],
      "execution_count": 0,
      "outputs": []
    },
    {
      "cell_type": "code",
      "metadata": {
        "id": "CanIzN0zDOQy",
        "colab_type": "code",
        "colab": {}
      },
      "source": [
        "X = array[:,[0,1,4,5,6,7,8,9,10,11,12]]\n",
        "Y = array[:,12]"
      ],
      "execution_count": 0,
      "outputs": []
    },
    {
      "cell_type": "markdown",
      "metadata": {
        "id": "X742PiuAJc1Q",
        "colab_type": "text"
      },
      "source": [
        "#Linear Regression"
      ]
    },
    {
      "cell_type": "code",
      "metadata": {
        "id": "_z0ODmIEDT_E",
        "colab_type": "code",
        "outputId": "916a7e05-a69c-4761-a5a6-e033f0b6b188",
        "colab": {
          "base_uri": "https://localhost:8080/",
          "height": 34
        }
      },
      "source": [
        "kfold = KFold(n_splits=10, random_state=None)\n",
        "model = LinearRegression()\n",
        "scoring = 'neg_mean_squared_error'\n",
        "results = cross_val_score(model, X, Y, cv=kfold, scoring=scoring)\n",
        "print(results.mean())"
      ],
      "execution_count": 4,
      "outputs": [
        {
          "output_type": "stream",
          "text": [
            "-7.849869091672287e-25\n"
          ],
          "name": "stdout"
        }
      ]
    },
    {
      "cell_type": "markdown",
      "metadata": {
        "id": "3-sVyCW9MIOl",
        "colab_type": "text"
      },
      "source": [
        "#Ridge Regression"
      ]
    },
    {
      "cell_type": "code",
      "metadata": {
        "id": "76IkfFPtMX3s",
        "colab_type": "code",
        "colab": {}
      },
      "source": [
        "from sklearn.linear_model import Ridge"
      ],
      "execution_count": 0,
      "outputs": []
    },
    {
      "cell_type": "code",
      "metadata": {
        "id": "Q0ukddihORJa",
        "colab_type": "code",
        "outputId": "563b6d9b-814f-46d8-95b1-a9fcd2067704",
        "colab": {
          "base_uri": "https://localhost:8080/",
          "height": 34
        }
      },
      "source": [
        "num_folds = 10\n",
        "kfold = KFold(n_splits=10, random_state=10, shuffle = True)\n",
        "model = Ridge()\n",
        "scoring = 'neg_mean_squared_error'\n",
        "results = cross_val_score(model, X, Y, cv=kfold, scoring=scoring)\n",
        "print(results.mean())\n"
      ],
      "execution_count": 6,
      "outputs": [
        {
          "output_type": "stream",
          "text": [
            "-3.517693257740862e-09\n"
          ],
          "name": "stdout"
        }
      ]
    },
    {
      "cell_type": "markdown",
      "metadata": {
        "id": "dqxDGHrmMdmr",
        "colab_type": "text"
      },
      "source": [
        "# Lasso Regression"
      ]
    },
    {
      "cell_type": "code",
      "metadata": {
        "id": "lLL0Kqk1MjzK",
        "colab_type": "code",
        "colab": {}
      },
      "source": [
        "from sklearn.linear_model import Lasso"
      ],
      "execution_count": 0,
      "outputs": []
    },
    {
      "cell_type": "code",
      "metadata": {
        "id": "02t6WKBQMkqs",
        "colab_type": "code",
        "outputId": "15bfdb82-d7f8-4775-93e1-a724695637b3",
        "colab": {
          "base_uri": "https://localhost:8080/",
          "height": 34
        }
      },
      "source": [
        "kfold = KFold(n_splits=10, random_state=7,shuffle = True)\n",
        "model = Lasso()\n",
        "scoring = 'neg_mean_squared_error'\n",
        "results = cross_val_score(model, X, Y, cv=kfold, scoring=scoring)\n",
        "print(results.mean())"
      ],
      "execution_count": 8,
      "outputs": [
        {
          "output_type": "stream",
          "text": [
            "-0.0007930612842607062\n"
          ],
          "name": "stdout"
        }
      ]
    },
    {
      "cell_type": "markdown",
      "metadata": {
        "id": "s7CvFhsKtMuq",
        "colab_type": "text"
      },
      "source": [
        "# Bayesian Ridge Regression"
      ]
    },
    {
      "cell_type": "code",
      "metadata": {
        "id": "JCZ8pPlpNPoV",
        "colab_type": "code",
        "colab": {}
      },
      "source": [
        "from sklearn import linear_model"
      ],
      "execution_count": 0,
      "outputs": []
    },
    {
      "cell_type": "code",
      "metadata": {
        "id": "n9A1xF3ytXYF",
        "colab_type": "code",
        "outputId": "915a4ffd-b99e-4ec0-894e-ec8fc0c5c2a9",
        "colab": {
          "base_uri": "https://localhost:8080/",
          "height": 34
        }
      },
      "source": [
        "kfold = KFold(n_splits=10, random_state=7,shuffle = True)\n",
        "model = linear_model.BayesianRidge()\n",
        "scoring = 'neg_mean_squared_error'\n",
        "results = cross_val_score(model, X, Y, cv=kfold, scoring=scoring)\n",
        "print(results.mean())"
      ],
      "execution_count": 10,
      "outputs": [
        {
          "output_type": "stream",
          "text": [
            "-9.134884697970315e-24\n"
          ],
          "name": "stdout"
        }
      ]
    },
    {
      "cell_type": "markdown",
      "metadata": {
        "id": "Njk6s0OOu7Ed",
        "colab_type": "text"
      },
      "source": [
        "#Elastic Net Regression"
      ]
    },
    {
      "cell_type": "code",
      "metadata": {
        "id": "EUw68wLkvNbH",
        "colab_type": "code",
        "colab": {}
      },
      "source": [
        "from sklearn.linear_model import ElasticNet"
      ],
      "execution_count": 0,
      "outputs": []
    },
    {
      "cell_type": "code",
      "metadata": {
        "id": "rDPK0NMCvcpT",
        "colab_type": "code",
        "outputId": "0c280b48-0d3c-4b5d-cca2-a027a97b1864",
        "colab": {
          "base_uri": "https://localhost:8080/",
          "height": 34
        }
      },
      "source": [
        "kfold = KFold(n_splits=10, random_state=7,shuffle = True)\n",
        "model = ElasticNet(random_state=0)\n",
        "scoring = 'neg_mean_squared_error'\n",
        "results = cross_val_score(model, X, Y, cv=kfold, scoring=scoring)\n",
        "print(results.mean())"
      ],
      "execution_count": 12,
      "outputs": [
        {
          "output_type": "stream",
          "text": [
            "-0.0007926738910852179\n"
          ],
          "name": "stdout"
        }
      ]
    },
    {
      "cell_type": "markdown",
      "metadata": {
        "id": "ue8v5OXJwhUg",
        "colab_type": "text"
      },
      "source": [
        "#Lars (Least-angle regression) Regression"
      ]
    },
    {
      "cell_type": "code",
      "metadata": {
        "id": "lp-HY4Cav05J",
        "colab_type": "code",
        "colab": {}
      },
      "source": [
        "from sklearn.linear_model import Lars"
      ],
      "execution_count": 0,
      "outputs": []
    },
    {
      "cell_type": "code",
      "metadata": {
        "id": "FGY0dhh4wzxL",
        "colab_type": "code",
        "outputId": "7e089558-ac49-4d53-8e01-35651392e3a2",
        "colab": {
          "base_uri": "https://localhost:8080/",
          "height": 34
        }
      },
      "source": [
        "kfold = KFold(n_splits=10, random_state=7,shuffle = True)\n",
        "model = Lars()\n",
        "scoring = 'neg_mean_squared_error'\n",
        "results = cross_val_score(model, X, Y, cv=kfold, scoring=scoring)\n",
        "print(results.mean())"
      ],
      "execution_count": 14,
      "outputs": [
        {
          "output_type": "stream",
          "text": [
            "-6.599299570783519e-26\n"
          ],
          "name": "stdout"
        }
      ]
    },
    {
      "cell_type": "markdown",
      "metadata": {
        "id": "xB17YjAFxRrT",
        "colab_type": "text"
      },
      "source": [
        "# Lars Lesso Regression"
      ]
    },
    {
      "cell_type": "code",
      "metadata": {
        "id": "pNn8ZXt4xa6l",
        "colab_type": "code",
        "outputId": "37bbe2bf-abb2-4faf-85aa-2ad5ce7ebcb6",
        "colab": {
          "base_uri": "https://localhost:8080/",
          "height": 34
        }
      },
      "source": [
        "kfold = KFold(n_splits=10, random_state=7,shuffle = True)\n",
        "model = linear_model.LassoLars(alpha=.1)\n",
        "scoring = 'neg_mean_squared_error'\n",
        "results = cross_val_score(model, X, Y, cv=kfold, scoring=scoring)\n",
        "print(results.mean())"
      ],
      "execution_count": 15,
      "outputs": [
        {
          "output_type": "stream",
          "text": [
            "-7.998635066469829\n"
          ],
          "name": "stdout"
        }
      ]
    }
  ]
}